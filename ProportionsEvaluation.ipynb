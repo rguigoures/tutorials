{
 "cells": [
  {
   "cell_type": "markdown",
   "metadata": {},
   "source": [
    "# How to evaluate percentages?\n",
    "\n",
    "Percentage is one of the most common mathematical concept. At this time of world cup, a poll has been conducted to evaluate the football enthusiasm of the french population. It appeared that 64% of surveyed people declared they planned to watch the games.\n",
    "<img src=\"img/french_rooster.jpg\" alt=\"Frenchy\" style=\"width: 200px;\"/>\n",
    "\n",
    "This percentage has an error estimation attached to it and the bigger the error the less likely the percentage to be accurate. This error rate is seldom mentioned in the news. The goal of this tutorial is to show how to assess whether a percentage or a probability has been correctly estimated and how big the error estimation is. Let's use the example of the poll on football as an illustration.\n",
    "\n",
    "_Allez les bleus !!!_"
   ]
  },
  {
   "cell_type": "markdown",
   "metadata": {},
   "source": [
    "#### Definition\n",
    "The percentage of people planning to watch the football games is defined as the number of people planning to watch the games divided by the number of surveyed people."
   ]
  },
  {
   "cell_type": "code",
   "execution_count": 2,
   "metadata": {
    "ExecuteTime": {
     "end_time": "2018-03-29T17:34:02.571786Z",
     "start_time": "2018-03-29T19:34:02.559784+02:00"
    }
   },
   "outputs": [
    {
     "name": "stdout",
     "output_type": "stream",
     "text": [
      "If 640 persons plan to watch the footbal games over 1000 surveyed persons, then the percentage is 64.0%\n"
     ]
    }
   ],
   "source": [
    "def rate(number_of_people_watching_games, number_of_surveyed_persons):\n",
    "    return round(100.* number_of_people_watching_games / number_of_surveyed_persons, 2)\n",
    "\n",
    "number_of_people_watching_games = 640\n",
    "number_of_surveyed_persons = 1000\n",
    "print(\"If {0} persons plan to watch the footbal games \"\n",
    "      \"over {1} surveyed persons, \"\n",
    "      \"then the percentage is {2}%\"\n",
    "      .format(number_of_people_watching_games, \n",
    "              number_of_surveyed_persons, \n",
    "              rate(number_of_people_watching_games, number_of_surveyed_persons)))"
   ]
  },
  {
   "cell_type": "markdown",
   "metadata": {},
   "source": [
    "#### Problem\n",
    "What if only 10 persons would have been surveyed? Would you feel confident generalizing to the rest of the population of the country?\n",
    "To answer that question, several statistical tools can be used."
   ]
  },
  {
   "cell_type": "markdown",
   "metadata": {},
   "source": [
    "## Bootstrapping\n",
    "\n",
    "#### Definition\n",
    "\n",
    "Bootstrapping consists in randomly sampling observations with replacement, that is, every surveyed person is independent from each other and the probability of getting an certain answer does not affect the probability of the answer of the next person. \n",
    "\n",
    "#### Illustrated version\n",
    "\n",
    "Imagine 10 persons to be surveyed are in a room. There are also 10 interviewers. The first investigator picks someone in the room, conduct the survey and brings the person back to the room. Then, the second investigator repeats the same process. And so on with the next 8 interviewers.\n",
    "\n",
    "This will give us the percentage of people planning to watch the games.\n",
    "\n",
    "**Question**: is this percentage accurate?\n",
    "\n",
    "Not sure. So we will repeat the process several times to check whether it is reliable or not."
   ]
  },
  {
   "cell_type": "code",
   "execution_count": 3,
   "metadata": {
    "ExecuteTime": {
     "end_time": "2018-03-29T18:02:05.987784Z",
     "start_time": "2018-03-29T20:02:05.966354+02:00"
    }
   },
   "outputs": [
    {
     "name": "stdout",
     "output_type": "stream",
     "text": [
      "70.0% of surveyed persons plan to watch the games.\n"
     ]
    }
   ],
   "source": [
    "import random\n",
    "\n",
    "number_people_in_the_room = 10\n",
    "number_people_watching_the_games = int(0.64 * number_people_in_the_room)\n",
    "number_people_not_watching_the_games = number_people_in_the_room - number_people_watching_the_games\n",
    "people_in_the_room = ['watching'] * number_people_watching_the_games + \\\n",
    "                     ['not watching'] * number_people_not_watching_the_games\n",
    "\n",
    "def pick_random_person(people_in_the_room, number_people_in_the_room):\n",
    "    person_index = random.randint(0, number_people_in_the_room - 1)\n",
    "    return people_in_the_room[person_index]\n",
    "\n",
    "def pick_many_times(people_in_the_room, number_people_in_the_room):\n",
    "    number_people_watching_the_games = 0\n",
    "    for i in range(number_people_in_the_room):\n",
    "        ball = pick_random_person(people_in_the_room, number_people_in_the_room)\n",
    "        if ball == 'watching':\n",
    "            number_people_watching_the_games += 1\n",
    "    return round(100.*number_people_watching_the_games / number_people_in_the_room, 2)\n",
    "\n",
    "print(\"{0}% of surveyed persons plan to watch the games.\".format(pick_many_times(people_in_the_room, number_people_in_the_room)))"
   ]
  },
  {
   "cell_type": "markdown",
   "metadata": {},
   "source": [
    "We can observe that for a sample of only 10 persons, the percentage is very unreliable. Conversely if we increase the sample size, the estimation of the percentage is more accurate. \n",
    "\n",
    "Let's repeat the experience 1000 times for different sample sizes."
   ]
  },
  {
   "cell_type": "code",
   "execution_count": 4,
   "metadata": {
    "ExecuteTime": {
     "end_time": "2018-03-29T17:59:58.138524Z",
     "start_time": "2018-03-29T19:59:48.107415+02:00"
    }
   },
   "outputs": [
    {
     "data": {
      "image/png": "[encoded data removed]",
      "text/plain": [
       "<matplotlib.figure.Figure at 0x10e602490>"
      ]
     },
     "metadata": {},
     "output_type": "display_data"
    }
   ],
   "source": [
    "from matplotlib import pyplot as plt\n",
    "import random\n",
    "\n",
    "number_people_in_the_room_list = [2**i for i in range(1,16)]\n",
    "X,Y = [],[]\n",
    "for i in range(1000):\n",
    "    number_people_in_the_room = random.choice(number_people_in_the_room_list)\n",
    "    number_people_watching_the_games = int(0.64 * number_people_in_the_room)\n",
    "    number_people_not_watching_the_games = number_people_in_the_room - number_people_watching_the_games\n",
    "    people_in_the_room = ['watching'] * number_people_watching_the_games + \\\n",
    "                         ['not watching'] * number_people_not_watching_the_games\n",
    "    percentage_watching_the_games = pick_many_times(people_in_the_room, number_people_in_the_room)\n",
    "    X.append(number_people_in_the_room)\n",
    "    Y.append(percentage_watching_the_games)\n",
    "fig, ax = plt.subplots()\n",
    "ax.set_xscale('log', basex=2)\n",
    "ax.plot(X, Y, 'ro')\n",
    "plt.show()"
   ]
  },
  {
   "cell_type": "markdown",
   "metadata": {},
   "source": [
    "So, how can we assess the certainty of a calculated percentage? One option consists in computing the average value of the percentages over each trial, and the standard deviation. In the following plot, bars are for 2 standard deviation since we want to get confidence intervals with a 95% precision."
   ]
  },
  {
   "cell_type": "code",
   "execution_count": 39,
   "metadata": {
    "ExecuteTime": {
     "end_time": "2018-03-29T18:04:23.029826Z",
     "start_time": "2018-03-29T20:04:20.945180+02:00"
    }
   },
   "outputs": [
    {
     "data": {
      "text/plain": [
       "<matplotlib.figure.Figure at 0x111e91dd0>"
      ]
     },
     "metadata": {},
     "output_type": "display_data"
    },
    {
     "data": {
      "image/png": "[encoded data removed]",
      "text/plain": [
       "<matplotlib.figure.Figure at 0x1120398d0>"
      ]
     },
     "metadata": {},
     "output_type": "display_data"
    }
   ],
   "source": [
    "from matplotlib import pyplot as plt\n",
    "import random\n",
    "import numpy as np\n",
    "\n",
    "number_people_in_the_room_list = [2**i for i in range(1,16)]\n",
    "X,Y,Yerr = [],[],[]\n",
    "for number_people_in_the_room in number_people_in_the_room_list:\n",
    "    percentage_people_watching_the_games = []\n",
    "    for i in range(10):\n",
    "        number_people_watching_the_games = int(0.64 * number_people_in_the_room)\n",
    "        number_people_not_watching_the_games = number_people_in_the_room - number_people_watching_the_games\n",
    "        people_in_the_room = ['watching'] * number_people_watching_the_games + \\\n",
    "                             ['not watching'] * number_people_not_watching_the_games\n",
    "        percentage_people_watching_the_games.append(pick_many_times(people_in_the_room, number_people_in_the_room))\n",
    "    X.append(number_people_in_the_room)\n",
    "    Y.append(np.mean(percentage_people_watching_the_games))\n",
    "    Yerr.append(2*np.std(percentage_people_watching_the_games))\n",
    "plt.clf()\n",
    "fig, ax = plt.subplots()\n",
    "ax.set_xscale('log', basex=2)\n",
    "ax.errorbar(X, Y, fmt='ro', yerr=Yerr)\n",
    "ax.plot(X, [64]*len(X))\n",
    "plt.show()"
   ]
  },
  {
   "cell_type": "code",
   "execution_count": 40,
   "metadata": {
    "ExecuteTime": {
     "end_time": "2018-03-29T18:05:22.808791Z",
     "start_time": "2018-03-29T20:05:22.797688+02:00"
    }
   },
   "outputs": [
    {
     "name": "stdout",
     "output_type": "stream",
     "text": [
      "For 2 surveyed persons, the percentage of persons watching the games is 40.0 (± 60.0)%\n",
      "For 4 surveyed persons, the percentage of persons watching the games is 47.5 (± 56.8)%\n",
      "For 8 surveyed persons, the percentage of persons watching the games is 52.5 (± 36.7)%\n",
      "For 16 surveyed persons, the percentage of persons watching the games is 56.3 (± 26.8)%\n",
      "For 32 surveyed persons, the percentage of persons watching the games is 62.8 (± 20.6)%\n",
      "For 64 surveyed persons, the percentage of persons watching the games is 63.4 (± 9.6)%\n",
      "For 128 surveyed persons, the percentage of persons watching the games is 64.0 (± 6.0)%\n",
      "For 256 surveyed persons, the percentage of persons watching the games is 61.1 (± 4.9)%\n",
      "For 512 surveyed persons, the percentage of persons watching the games is 63.5 (± 2.2)%\n",
      "For 1024 surveyed persons, the percentage of persons watching the games is 63.0 (± 3.7)%\n",
      "For 2048 surveyed persons, the percentage of persons watching the games is 63.7 (± 1.9)%\n",
      "For 4096 surveyed persons, the percentage of persons watching the games is 64.0 (± 1.3)%\n",
      "For 8192 surveyed persons, the percentage of persons watching the games is 64.0 (± 0.5)%\n",
      "For 16384 surveyed persons, the percentage of persons watching the games is 64.0 (± 0.7)%\n",
      "For 32768 surveyed persons, the percentage of persons watching the games is 64.1 (± 0.5)%\n"
     ]
    }
   ],
   "source": [
    "for i,x in enumerate(X):\n",
    "    print(\"For {0} surveyed persons, the percentage of persons watching the games is {1} (± {2})%\".format(x, round(Y[i],1), round(Yerr[i],1)))"
   ]
  },
  {
   "cell_type": "markdown",
   "metadata": {},
   "source": [
    "### The binomial confidence interval\n",
    "\n",
    "Bootstrapping is nice but sampling is a pretty heavy process for evaluating a percentage.\n",
    "\n",
    "**Question**: Is there a way to compute directly the confidence using the numbers of surveyed persons and the percentage?\n",
    "\n",
    "Of course, there is! This is called the binomial estimator. \n",
    "\n",
    "The binomial estimator considers the problem the opposite way: how likely it is that my observations are sampled from my percentage. Concretely, I know that I 64% of french people plan to watch the games, how likely is it that in my sample of 100 persons, 64 of them are going to watch the football games?"
   ]
  },
  {
   "cell_type": "code",
   "execution_count": 9,
   "metadata": {
    "ExecuteTime": {
     "end_time": "2018-03-29T18:08:31.076653Z",
     "start_time": "2018-03-29T20:08:30.247318+02:00"
    }
   },
   "outputs": [
    {
     "name": "stdout",
     "output_type": "stream",
     "text": [
      "For 100 surveyed persons, the probability that 64 of them plan to watch the game, if the expected percentage is 64%, is equal to 8.29% \n",
      "\n",
      "For 10,000 surveyed persons, the probability that 6,400 of them plan to watch the game, if the expected percentage is 64%, is equal to 0.83%\n"
     ]
    }
   ],
   "source": [
    "from scipy.stats import binom\n",
    "\n",
    "L = binom.pmf(n=100, k=64, p=0.64)\n",
    "print(\"For 100 surveyed persons, the probability that 64 of them plan to watch the game, if the expected percentage is 64%, is equal to {}% \\n\".format(round(100*L, 2)))\n",
    "\n",
    "L = binom.pmf(n=10000, k=6400, p=0.64)\n",
    "print(\"For 10,000 surveyed persons, the probability that 6,400 of them plan to watch the game, if the expected percentage is 64%, is equal to {}%\".format(round(100*L, 2)))"
   ]
  },
  {
   "cell_type": "markdown",
   "metadata": {},
   "source": [
    "This is quite counterintuitive: the more there are observations, the less it is reliable.\n",
    "\n",
    "But it is also more likely to find randomly 64 persons planning to watch the games over 100 surveyed people than 6,400 over 10,000."
   ]
  },
  {
   "cell_type": "code",
   "execution_count": 10,
   "metadata": {
    "ExecuteTime": {
     "end_time": "2018-03-29T18:10:00.387906Z",
     "start_time": "2018-03-29T20:10:00.382077+02:00"
    }
   },
   "outputs": [
    {
     "name": "stdout",
     "output_type": "stream",
     "text": [
      "The probability to randomly find 64 persons planning to watch the games over 100 surveyed people is 1.0%\n",
      "The probability to randomly find 6,400 persons planning to watch the games over 10,000 surveyed people is 0.01%\n"
     ]
    }
   ],
   "source": [
    "L = 1/100.\n",
    "print(\"The probability to randomly find 64 persons planning to watch the games over 100 surveyed people is {}%\".format(round(100*L, 2)))\n",
    "\n",
    "L = 1/10000.\n",
    "print(\"The probability to randomly find 6,400 persons planning to watch the games over 10,000 surveyed people is {}%\".format(round(100*L, 2)))"
   ]
  },
  {
   "cell_type": "markdown",
   "metadata": {},
   "source": [
    "**Question**: How to derive the confidence interval from it?\n",
    "\n",
    "Let's do some maths! Let's write the binomial estimator as a conditional probability: $P(k \\mid n, p)$. \n",
    "\n",
    "**Example**: In the survey published in the news, 1,000 persons were surveyed. Then, $P(k=640 \\mid n=1000, p=0.64)$ denotes the probability to find 640 persons planning to watch the games over 1,000 surveyed people knowing that the expected percentage is 64%.\n",
    "\n",
    "Let's suppose that we want to have a confidence interval with a 95% precision, that is an error rate of 5%.\n",
    "\n",
    "We can then iterate over k from 1 and sum $P(k \\mid n, p)$, until we hit half of the error rate, i.e 2.5%:\n",
    "\n",
    "$$P(k=1 \\mid n=1000, p=0.64)+P(k=2 \\mid n=1000, p=0.64)+...+P(k=x_L \\mid n=1000, p=0.64) = 2.5\\%$$"
   ]
  },
  {
   "cell_type": "code",
   "execution_count": 23,
   "metadata": {},
   "outputs": [
    {
     "name": "stdout",
     "output_type": "stream",
     "text": [
      "Lower bound of the 95% confidence interval is when we hit k=610\n"
     ]
    }
   ],
   "source": [
    "L=0\n",
    "for k in range(1,1000):\n",
    "    L += binom.pmf(n=1000, k=k, p=0.64)\n",
    "    if L>0.025:\n",
    "        print \"Lower bound of the 95% confidence interval is when we hit k={}\".format(k)\n",
    "        break"
   ]
  },
  {
   "cell_type": "markdown",
   "metadata": {},
   "source": [
    "Now we have found the lower bound of the confidence interval, let's do the same for computing the upper bound:\n",
    "\n",
    "$$P(k=1000 \\mid n=1000, p=0.6)+P(k=999 \\mid n=1000, p=0.6)+...+P(k=x_U \\mid n=1000, p=0.6) = 2.5\\%$$"
   ]
  },
  {
   "cell_type": "code",
   "execution_count": 25,
   "metadata": {},
   "outputs": [
    {
     "name": "stdout",
     "output_type": "stream",
     "text": [
      "Upper bound of the 95% confidence interval is when we hit k=670\n"
     ]
    }
   ],
   "source": [
    "L=0\n",
    "for k in range(0,1000):\n",
    "    L += binom.pmf(n=1000, k=1000-k, p=0.64)\n",
    "    if L>0.025:\n",
    "        print \"Upper bound of the 95% confidence interval is when we hit k={}\".format(1000-k)\n",
    "        break"
   ]
  },
  {
   "cell_type": "markdown",
   "metadata": {},
   "source": [
    "**Conclusion**: For 1,000 surveyed persons, the percentage to find 640 persons pretending planning watching the games  is equal to 64 (± 3)%, with a 95% precision. "
   ]
  },
  {
   "cell_type": "markdown",
   "metadata": {},
   "source": [
    "**Question**: Is there a way to compute it directly?\n",
    "\n",
    "Yes. There is also a way to estimate that value:\n",
    "\n",
    "$$e = z \\displaystyle\\sqrt{\\dfrac{p(1-p)}{n}}$$\n",
    "\n",
    "where $p$ is the percentage, $n$ is the number of samples and z is the z score, constant value depending on the required precision."
   ]
  },
  {
   "cell_type": "code",
   "execution_count": 31,
   "metadata": {
    "ExecuteTime": {
     "end_time": "2018-03-29T18:19:15.504410Z",
     "start_time": "2018-03-29T20:19:15.497934+02:00"
    }
   },
   "outputs": [
    {
     "name": "stdout",
     "output_type": "stream",
     "text": [
      "Error rate is: 9.41\n"
     ]
    }
   ],
   "source": [
    "import math\n",
    "from scipy.stats import norm\n",
    "\n",
    "def compute_confidence_interval(p, n, precision):\n",
    "    zscore = abs(norm.ppf((1-precision)/2.))\n",
    "    return zscore*math.sqrt(p*(1-p)/n)\n",
    "\n",
    "print(\"Error rate is: {}\".format(round(100*compute_confidence_interval(0.64, 100, 0.95),2)))"
   ]
  },
  {
   "cell_type": "markdown",
   "metadata": {},
   "source": [
    "Now let's plot the same chart as we did for bootstrapping. And note that we obtain similar confidence intervals."
   ]
  },
  {
   "cell_type": "code",
   "execution_count": 42,
   "metadata": {
    "ExecuteTime": {
     "end_time": "2018-03-29T18:19:17.697061Z",
     "start_time": "2018-03-29T20:19:17.013398+02:00"
    }
   },
   "outputs": [
    {
     "data": {
      "text/plain": [
       "<matplotlib.figure.Figure at 0x11227a5d0>"
      ]
     },
     "metadata": {},
     "output_type": "display_data"
    },
    {
     "data": {
      "image/png": "[encoded data removed]",
      "text/plain": [
       "<matplotlib.figure.Figure at 0x11227a750>"
      ]
     },
     "metadata": {},
     "output_type": "display_data"
    }
   ],
   "source": [
    "from matplotlib import pyplot as plt\n",
    "import random\n",
    "import numpy as np\n",
    "\n",
    "number_people_in_the_room_list = [2**i for i in range(1,16)]\n",
    "X,Y,Yerr = [],[],[]\n",
    "for number_people_in_the_room in number_people_in_the_room_list:\n",
    "    X.append(number_people_in_the_room)\n",
    "    Y.append(64)\n",
    "    Yerr.append(compute_confidence_interval(.64, number_people_in_the_room, 0.95)*100)\n",
    "plt.clf()\n",
    "fig, ax = plt.subplots()\n",
    "ax.set_xscale('log', basex=2)\n",
    "ax.errorbar(X, Y, fmt='ro', yerr=Yerr)\n",
    "ax.plot(X, [64]*len(X))\n",
    "plt.show()"
   ]
  },
  {
   "cell_type": "code",
   "execution_count": 43,
   "metadata": {
    "ExecuteTime": {
     "end_time": "2018-03-29T18:19:18.629519Z",
     "start_time": "2018-03-29T20:19:18.621279+02:00"
    }
   },
   "outputs": [
    {
     "name": "stdout",
     "output_type": "stream",
     "text": [
      "For 2 surveyed persons, the percentage of persons watching the games is 64.0 (± 66.5)%\n",
      "For 4 surveyed persons, the percentage of persons watching the games is 64.0 (± 47.0)%\n",
      "For 8 surveyed persons, the percentage of persons watching the games is 64.0 (± 33.3)%\n",
      "For 16 surveyed persons, the percentage of persons watching the games is 64.0 (± 23.5)%\n",
      "For 32 surveyed persons, the percentage of persons watching the games is 64.0 (± 16.6)%\n",
      "For 64 surveyed persons, the percentage of persons watching the games is 64.0 (± 11.8)%\n",
      "For 128 surveyed persons, the percentage of persons watching the games is 64.0 (± 8.3)%\n",
      "For 256 surveyed persons, the percentage of persons watching the games is 64.0 (± 5.9)%\n",
      "For 512 surveyed persons, the percentage of persons watching the games is 64.0 (± 4.2)%\n",
      "For 1024 surveyed persons, the percentage of persons watching the games is 64.0 (± 2.9)%\n",
      "For 2048 surveyed persons, the percentage of persons watching the games is 64.0 (± 2.1)%\n",
      "For 4096 surveyed persons, the percentage of persons watching the games is 64.0 (± 1.5)%\n",
      "For 8192 surveyed persons, the percentage of persons watching the games is 64.0 (± 1.0)%\n",
      "For 16384 surveyed persons, the percentage of persons watching the games is 64.0 (± 0.7)%\n",
      "For 32768 surveyed persons, the percentage of persons watching the games is 64.0 (± 0.5)%\n"
     ]
    }
   ],
   "source": [
    "for i,x in enumerate(X):\n",
    "    print(\"For {0} surveyed persons, the percentage of persons watching the games is {1} (± {2})%\".format(x, round(Y[i],1), round(Yerr[i],1)))"
   ]
  },
  {
   "cell_type": "markdown",
   "metadata": {},
   "source": [
    "### Comparing two proportions\n",
    "\n",
    "Imagine you want to compare the evoluation of a percentage month over month. Let us use another example here. The news claim that satisfaction rate of citizens with the actions lead by the president dropped from 45% to 43%. A survey has been conducted on a sample of 1,000 persons.\n",
    "\n",
    "**Question**: How can I assess whether this change is relevant or not?\n",
    "\n",
    "The first solution would be to compare the confidence intervals of the two proportions."
   ]
  },
  {
   "cell_type": "code",
   "execution_count": 46,
   "metadata": {
    "ExecuteTime": {
     "end_time": "2018-03-29T18:20:46.453085Z",
     "start_time": "2018-03-29T20:20:46.440661+02:00"
    }
   },
   "outputs": [
    {
     "name": "stdout",
     "output_type": "stream",
     "text": [
      "The satisfaction rate in May is 45.0 (±3.0)%\n",
      "The satisfaction rate in June is 43.0 (±3.0)%\n"
     ]
    }
   ],
   "source": [
    "satisfaction_rate_in_may = 0.45\n",
    "satisfaction_rate_in_june = 0.43\n",
    "number_of_surveyed_persons = 1000\n",
    "\n",
    "confidence_may = compute_confidence_interval(satisfaction_rate_in_may, number_of_surveyed_persons, precision=0.95)\n",
    "confidence_june = compute_confidence_interval(satisfaction_rate_in_june, number_of_surveyed_persons, precision=0.95)\n",
    "\n",
    "print(\"The satisfaction rate in May is {0} (±{1})%\".format(round(100*satisfaction_rate_in_may), round(100*confidence_may)))\n",
    "print(\"The satisfaction rate in June is {0} (±{1})%\".format(round(100*satisfaction_rate_in_june), round(100*confidence_june)))"
   ]
  },
  {
   "cell_type": "markdown",
   "metadata": {},
   "source": [
    "In this case, we observe a decrease of 3pp of the satisfaction rate between May and June. The confidence intervals overlap but this is not enough to draw any conclusion.\n",
    "\n",
    "**Question**: Can we directly compute a confidence interval on the decrease itself?\n",
    "\n",
    "Yes, in a similar way to how we do it for the proportions:\n",
    "\n",
    "$$e = z \\displaystyle\\sqrt{\\dfrac{p_1(1-p_1)}{n_1} + \\dfrac{p_2(1-p_2)}{n_2}}$$\n",
    "\n",
    "where $p_1$ and $p_2$ are the percentages and $n_1$ and $n_2$ the number of surveyed persons, of respectively the first and the second month."
   ]
  },
  {
   "cell_type": "code",
   "execution_count": 47,
   "metadata": {
    "ExecuteTime": {
     "end_time": "2018-03-29T18:22:21.106860Z",
     "start_time": "2018-03-29T20:22:21.092180+02:00"
    }
   },
   "outputs": [
    {
     "name": "stdout",
     "output_type": "stream",
     "text": [
      "We observe between May and June a decrease of 2.0 (±4.0) pp of the satisfaction rate\n"
     ]
    }
   ],
   "source": [
    "def compute_difference_confidence_interval(p1, n1, p2, n2, precision):\n",
    "    zscore = abs(norm.ppf((1-precision)/2.))\n",
    "    return zscore * math.sqrt(p1*(1-p1)/n1+p2*(1-p2)/n2)\n",
    "\n",
    "satisfaction_rate_in_may = 0.45\n",
    "satisfaction_rate_in_june = 0.43\n",
    "number_of_surveyed_persons = 1000\n",
    "\n",
    "confidence_difference_may_june = compute_difference_confidence_interval(satisfaction_rate_in_may, \n",
    "                                                                        number_of_surveyed_persons, \n",
    "                                                                        satisfaction_rate_in_june, \n",
    "                                                                        number_of_surveyed_persons, \n",
    "                                                                        precision=.95)\n",
    "\n",
    "print(\"We observe between May and June a decrease of {0} (±{1}) pp of the satisfaction rate\"\n",
    "      .format(round(abs(100*(satisfaction_rate_in_may-satisfaction_rate_in_june))), \n",
    "              round(100*confidence_difference_may_june)))"
   ]
  },
  {
   "cell_type": "markdown",
   "metadata": {
    "collapsed": true
   },
   "source": [
    "This means that the sample size of the surveyed population is too small to generalize to the rest of the country."
   ]
  },
  {
   "cell_type": "code",
   "execution_count": null,
   "metadata": {
    "collapsed": true
   },
   "outputs": [],
   "source": []
  }
 ],
 "metadata": {
  "anaconda-cloud": {},
  "kernelspec": {
   "display_name": "Python [conda env:jupyter_env]",
   "language": "python",
   "name": "conda-env-jupyter_env-py"
  },
  "language_info": {
   "codemirror_mode": {
    "name": "ipython",
    "version": 2
   },
   "file_extension": ".py",
   "mimetype": "text/x-python",
   "name": "python",
   "nbconvert_exporter": "python",
   "pygments_lexer": "ipython2",
   "version": "2.7.13"
  }
 },
 "nbformat": 4,
 "nbformat_minor": 2
}
